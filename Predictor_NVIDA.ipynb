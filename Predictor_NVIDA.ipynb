{
  "nbformat": 4,
  "nbformat_minor": 0,
  "metadata": {
    "colab": {
      "name": "Predictor_NVIDA.ipynb",
      "provenance": []
    },
    "kernelspec": {
      "name": "python3",
      "display_name": "Python 3"
    },
    "language_info": {
      "name": "python"
    }
  },
  "cells": [
    {
      "cell_type": "markdown",
      "source": [
        "Basado en EreZZoR\n",
        "/\n",
        "stockPredictor"
      ],
      "metadata": {
        "id": "1P1PHd4S0Bvc"
      }
    },
    {
      "cell_type": "code",
      "source": [
        "pip install yfinance --upgrade --no-cache-dir"
      ],
      "metadata": {
        "id": "4yvKuzufCljL"
      },
      "execution_count": null,
      "outputs": []
    },
    {
      "cell_type": "code",
      "execution_count": 4,
      "metadata": {
        "id": "4BI96NQ85zoM"
      },
      "outputs": [],
      "source": [
        "import numpy as np\n",
        "import matplotlib.pyplot as plt\n",
        "import pandas as pd\n",
        "from pandas_datareader import data as pdr\n",
        "import datetime\n",
        "import yfinance as yf\n",
        "from sklearn.preprocessing import MinMaxScaler\n",
        "from keras.layers import Dense, LSTM, Dropout\n",
        "from keras.models import Sequential"
      ]
    },
    {
      "cell_type": "code",
      "source": [
        "def visualizar(real, prediccion):\n",
        "    plt.plot(real[0:len(prediccion)],color='red', label='Precio máximo real de la acción')\n",
        "    plt.plot(prediccion, color='blue', label='Predicción de la acción')\n",
        "    plt.xlabel('Tiempo')\n",
        "    plt.ylabel('Precio de la acción')\n",
        "    plt.legend()\n",
        "    plt.show()"
      ],
      "metadata": {
        "id": "teZ3YAtM59td"
      },
      "execution_count": 5,
      "outputs": []
    },
    {
      "cell_type": "code",
      "source": [
        "yf.pdr_override()\n",
        "\n",
        "datatraining = pdr.get_data_yahoo(\"NVDA\", start=\"2010-01-01\", end=\"2020-01-01\")['High']\n",
        "datatest = pdr.get_data_yahoo(\"NVDA\", start=\"2020-01-01\", end=\"2021-01-01\")['High']"
      ],
      "metadata": {
        "colab": {
          "base_uri": "https://localhost:8080/"
        },
        "id": "f_2Ip0JP6JHc",
        "outputId": "748d1337-e3f8-46bd-8887-62f3da811e91"
      },
      "execution_count": 6,
      "outputs": [
        {
          "output_type": "stream",
          "name": "stdout",
          "text": [
            "[*********************100%***********************]  1 of 1 completed\n",
            "[*********************100%***********************]  1 of 1 completed\n"
          ]
        }
      ]
    },
    {
      "cell_type": "code",
      "source": [
        "trainingSet = pd.DataFrame(datatraining)\n",
        "testSet = pd.DataFrame(datatest)"
      ],
      "metadata": {
        "id": "IusLCwbOEEVO"
      },
      "execution_count": 7,
      "outputs": []
    },
    {
      "cell_type": "code",
      "source": [
        ""
      ],
      "metadata": {
        "id": "4IwHSA7a0TWb"
      },
      "execution_count": null,
      "outputs": []
    },
    {
      "cell_type": "code",
      "source": [
        "trainingSet.head()"
      ],
      "metadata": {
        "colab": {
          "base_uri": "https://localhost:8080/",
          "height": 215
        },
        "id": "U_aFWba7OKSO",
        "outputId": "4031f417-3e42-4455-9a39-f8678bd7a8bd"
      },
      "execution_count": 8,
      "outputs": [
        {
          "output_type": "execute_result",
          "data": {
            "text/html": [
              "\n",
              "  <div id=\"df-2dd6872c-d856-4c0b-aad4-68a43a2a3237\">\n",
              "    <div class=\"colab-df-container\">\n",
              "      <div>\n",
              "<style scoped>\n",
              "    .dataframe tbody tr th:only-of-type {\n",
              "        vertical-align: middle;\n",
              "    }\n",
              "\n",
              "    .dataframe tbody tr th {\n",
              "        vertical-align: top;\n",
              "    }\n",
              "\n",
              "    .dataframe thead th {\n",
              "        text-align: right;\n",
              "    }\n",
              "</style>\n",
              "<table border=\"1\" class=\"dataframe\">\n",
              "  <thead>\n",
              "    <tr style=\"text-align: right;\">\n",
              "      <th></th>\n",
              "      <th>High</th>\n",
              "    </tr>\n",
              "    <tr>\n",
              "      <th>Date</th>\n",
              "      <th></th>\n",
              "    </tr>\n",
              "  </thead>\n",
              "  <tbody>\n",
              "    <tr>\n",
              "      <th>2010-01-04</th>\n",
              "      <td>4.655</td>\n",
              "    </tr>\n",
              "    <tr>\n",
              "      <th>2010-01-05</th>\n",
              "      <td>4.740</td>\n",
              "    </tr>\n",
              "    <tr>\n",
              "      <th>2010-01-06</th>\n",
              "      <td>4.730</td>\n",
              "    </tr>\n",
              "    <tr>\n",
              "      <th>2010-01-07</th>\n",
              "      <td>4.715</td>\n",
              "    </tr>\n",
              "    <tr>\n",
              "      <th>2010-01-08</th>\n",
              "      <td>4.670</td>\n",
              "    </tr>\n",
              "  </tbody>\n",
              "</table>\n",
              "</div>\n",
              "      <button class=\"colab-df-convert\" onclick=\"convertToInteractive('df-2dd6872c-d856-4c0b-aad4-68a43a2a3237')\"\n",
              "              title=\"Convert this dataframe to an interactive table.\"\n",
              "              style=\"display:none;\">\n",
              "        \n",
              "  <svg xmlns=\"http://www.w3.org/2000/svg\" height=\"24px\"viewBox=\"0 0 24 24\"\n",
              "       width=\"24px\">\n",
              "    <path d=\"M0 0h24v24H0V0z\" fill=\"none\"/>\n",
              "    <path d=\"M18.56 5.44l.94 2.06.94-2.06 2.06-.94-2.06-.94-.94-2.06-.94 2.06-2.06.94zm-11 1L8.5 8.5l.94-2.06 2.06-.94-2.06-.94L8.5 2.5l-.94 2.06-2.06.94zm10 10l.94 2.06.94-2.06 2.06-.94-2.06-.94-.94-2.06-.94 2.06-2.06.94z\"/><path d=\"M17.41 7.96l-1.37-1.37c-.4-.4-.92-.59-1.43-.59-.52 0-1.04.2-1.43.59L10.3 9.45l-7.72 7.72c-.78.78-.78 2.05 0 2.83L4 21.41c.39.39.9.59 1.41.59.51 0 1.02-.2 1.41-.59l7.78-7.78 2.81-2.81c.8-.78.8-2.07 0-2.86zM5.41 20L4 18.59l7.72-7.72 1.47 1.35L5.41 20z\"/>\n",
              "  </svg>\n",
              "      </button>\n",
              "      \n",
              "  <style>\n",
              "    .colab-df-container {\n",
              "      display:flex;\n",
              "      flex-wrap:wrap;\n",
              "      gap: 12px;\n",
              "    }\n",
              "\n",
              "    .colab-df-convert {\n",
              "      background-color: #E8F0FE;\n",
              "      border: none;\n",
              "      border-radius: 50%;\n",
              "      cursor: pointer;\n",
              "      display: none;\n",
              "      fill: #1967D2;\n",
              "      height: 32px;\n",
              "      padding: 0 0 0 0;\n",
              "      width: 32px;\n",
              "    }\n",
              "\n",
              "    .colab-df-convert:hover {\n",
              "      background-color: #E2EBFA;\n",
              "      box-shadow: 0px 1px 2px rgba(60, 64, 67, 0.3), 0px 1px 3px 1px rgba(60, 64, 67, 0.15);\n",
              "      fill: #174EA6;\n",
              "    }\n",
              "\n",
              "    [theme=dark] .colab-df-convert {\n",
              "      background-color: #3B4455;\n",
              "      fill: #D2E3FC;\n",
              "    }\n",
              "\n",
              "    [theme=dark] .colab-df-convert:hover {\n",
              "      background-color: #434B5C;\n",
              "      box-shadow: 0px 1px 3px 1px rgba(0, 0, 0, 0.15);\n",
              "      filter: drop-shadow(0px 1px 2px rgba(0, 0, 0, 0.3));\n",
              "      fill: #FFFFFF;\n",
              "    }\n",
              "  </style>\n",
              "\n",
              "      <script>\n",
              "        const buttonEl =\n",
              "          document.querySelector('#df-2dd6872c-d856-4c0b-aad4-68a43a2a3237 button.colab-df-convert');\n",
              "        buttonEl.style.display =\n",
              "          google.colab.kernel.accessAllowed ? 'block' : 'none';\n",
              "\n",
              "        async function convertToInteractive(key) {\n",
              "          const element = document.querySelector('#df-2dd6872c-d856-4c0b-aad4-68a43a2a3237');\n",
              "          const dataTable =\n",
              "            await google.colab.kernel.invokeFunction('convertToInteractive',\n",
              "                                                     [key], {});\n",
              "          if (!dataTable) return;\n",
              "\n",
              "          const docLinkHtml = 'Like what you see? Visit the ' +\n",
              "            '<a target=\"_blank\" href=https://colab.research.google.com/notebooks/data_table.ipynb>data table notebook</a>'\n",
              "            + ' to learn more about interactive tables.';\n",
              "          element.innerHTML = '';\n",
              "          dataTable['output_type'] = 'display_data';\n",
              "          await google.colab.output.renderOutput(dataTable, element);\n",
              "          const docLink = document.createElement('div');\n",
              "          docLink.innerHTML = docLinkHtml;\n",
              "          element.appendChild(docLink);\n",
              "        }\n",
              "      </script>\n",
              "    </div>\n",
              "  </div>\n",
              "  "
            ],
            "text/plain": [
              "             High\n",
              "Date             \n",
              "2010-01-04  4.655\n",
              "2010-01-05  4.740\n",
              "2010-01-06  4.730\n",
              "2010-01-07  4.715\n",
              "2010-01-08  4.670"
            ]
          },
          "metadata": {},
          "execution_count": 8
        }
      ]
    },
    {
      "cell_type": "code",
      "source": [
        "testSet.head()"
      ],
      "metadata": {
        "colab": {
          "base_uri": "https://localhost:8080/",
          "height": 238
        },
        "id": "H4GCV2ie0QRp",
        "outputId": "14ee71aa-f64f-46d8-ce72-5e5de5d6a611"
      },
      "execution_count": 26,
      "outputs": [
        {
          "output_type": "execute_result",
          "data": {
            "text/html": [
              "\n",
              "  <div id=\"df-f00b97b7-73b1-4a91-baa9-042888ccc108\">\n",
              "    <div class=\"colab-df-container\">\n",
              "      <div>\n",
              "<style scoped>\n",
              "    .dataframe tbody tr th:only-of-type {\n",
              "        vertical-align: middle;\n",
              "    }\n",
              "\n",
              "    .dataframe tbody tr th {\n",
              "        vertical-align: top;\n",
              "    }\n",
              "\n",
              "    .dataframe thead th {\n",
              "        text-align: right;\n",
              "    }\n",
              "</style>\n",
              "<table border=\"1\" class=\"dataframe\">\n",
              "  <thead>\n",
              "    <tr style=\"text-align: right;\">\n",
              "      <th></th>\n",
              "      <th>High</th>\n",
              "    </tr>\n",
              "    <tr>\n",
              "      <th>Date</th>\n",
              "      <th></th>\n",
              "    </tr>\n",
              "  </thead>\n",
              "  <tbody>\n",
              "    <tr>\n",
              "      <th>2020-01-02</th>\n",
              "      <td>59.977501</td>\n",
              "    </tr>\n",
              "    <tr>\n",
              "      <th>2020-01-03</th>\n",
              "      <td>59.457500</td>\n",
              "    </tr>\n",
              "    <tr>\n",
              "      <th>2020-01-06</th>\n",
              "      <td>59.317501</td>\n",
              "    </tr>\n",
              "    <tr>\n",
              "      <th>2020-01-07</th>\n",
              "      <td>60.442501</td>\n",
              "    </tr>\n",
              "    <tr>\n",
              "      <th>2020-01-08</th>\n",
              "      <td>60.509998</td>\n",
              "    </tr>\n",
              "  </tbody>\n",
              "</table>\n",
              "</div>\n",
              "      <button class=\"colab-df-convert\" onclick=\"convertToInteractive('df-f00b97b7-73b1-4a91-baa9-042888ccc108')\"\n",
              "              title=\"Convert this dataframe to an interactive table.\"\n",
              "              style=\"display:none;\">\n",
              "        \n",
              "  <svg xmlns=\"http://www.w3.org/2000/svg\" height=\"24px\"viewBox=\"0 0 24 24\"\n",
              "       width=\"24px\">\n",
              "    <path d=\"M0 0h24v24H0V0z\" fill=\"none\"/>\n",
              "    <path d=\"M18.56 5.44l.94 2.06.94-2.06 2.06-.94-2.06-.94-.94-2.06-.94 2.06-2.06.94zm-11 1L8.5 8.5l.94-2.06 2.06-.94-2.06-.94L8.5 2.5l-.94 2.06-2.06.94zm10 10l.94 2.06.94-2.06 2.06-.94-2.06-.94-.94-2.06-.94 2.06-2.06.94z\"/><path d=\"M17.41 7.96l-1.37-1.37c-.4-.4-.92-.59-1.43-.59-.52 0-1.04.2-1.43.59L10.3 9.45l-7.72 7.72c-.78.78-.78 2.05 0 2.83L4 21.41c.39.39.9.59 1.41.59.51 0 1.02-.2 1.41-.59l7.78-7.78 2.81-2.81c.8-.78.8-2.07 0-2.86zM5.41 20L4 18.59l7.72-7.72 1.47 1.35L5.41 20z\"/>\n",
              "  </svg>\n",
              "      </button>\n",
              "      \n",
              "  <style>\n",
              "    .colab-df-container {\n",
              "      display:flex;\n",
              "      flex-wrap:wrap;\n",
              "      gap: 12px;\n",
              "    }\n",
              "\n",
              "    .colab-df-convert {\n",
              "      background-color: #E8F0FE;\n",
              "      border: none;\n",
              "      border-radius: 50%;\n",
              "      cursor: pointer;\n",
              "      display: none;\n",
              "      fill: #1967D2;\n",
              "      height: 32px;\n",
              "      padding: 0 0 0 0;\n",
              "      width: 32px;\n",
              "    }\n",
              "\n",
              "    .colab-df-convert:hover {\n",
              "      background-color: #E2EBFA;\n",
              "      box-shadow: 0px 1px 2px rgba(60, 64, 67, 0.3), 0px 1px 3px 1px rgba(60, 64, 67, 0.15);\n",
              "      fill: #174EA6;\n",
              "    }\n",
              "\n",
              "    [theme=dark] .colab-df-convert {\n",
              "      background-color: #3B4455;\n",
              "      fill: #D2E3FC;\n",
              "    }\n",
              "\n",
              "    [theme=dark] .colab-df-convert:hover {\n",
              "      background-color: #434B5C;\n",
              "      box-shadow: 0px 1px 3px 1px rgba(0, 0, 0, 0.15);\n",
              "      filter: drop-shadow(0px 1px 2px rgba(0, 0, 0, 0.3));\n",
              "      fill: #FFFFFF;\n",
              "    }\n",
              "  </style>\n",
              "\n",
              "      <script>\n",
              "        const buttonEl =\n",
              "          document.querySelector('#df-f00b97b7-73b1-4a91-baa9-042888ccc108 button.colab-df-convert');\n",
              "        buttonEl.style.display =\n",
              "          google.colab.kernel.accessAllowed ? 'block' : 'none';\n",
              "\n",
              "        async function convertToInteractive(key) {\n",
              "          const element = document.querySelector('#df-f00b97b7-73b1-4a91-baa9-042888ccc108');\n",
              "          const dataTable =\n",
              "            await google.colab.kernel.invokeFunction('convertToInteractive',\n",
              "                                                     [key], {});\n",
              "          if (!dataTable) return;\n",
              "\n",
              "          const docLinkHtml = 'Like what you see? Visit the ' +\n",
              "            '<a target=\"_blank\" href=https://colab.research.google.com/notebooks/data_table.ipynb>data table notebook</a>'\n",
              "            + ' to learn more about interactive tables.';\n",
              "          element.innerHTML = '';\n",
              "          dataTable['output_type'] = 'display_data';\n",
              "          await google.colab.output.renderOutput(dataTable, element);\n",
              "          const docLink = document.createElement('div');\n",
              "          docLink.innerHTML = docLinkHtml;\n",
              "          element.appendChild(docLink);\n",
              "        }\n",
              "      </script>\n",
              "    </div>\n",
              "  </div>\n",
              "  "
            ],
            "text/plain": [
              "                 High\n",
              "Date                 \n",
              "2020-01-02  59.977501\n",
              "2020-01-03  59.457500\n",
              "2020-01-06  59.317501\n",
              "2020-01-07  60.442501\n",
              "2020-01-08  60.509998"
            ]
          },
          "metadata": {},
          "execution_count": 26
        }
      ]
    },
    {
      "cell_type": "markdown",
      "source": [
        "Nomralizacion de valores entre 1 y 0"
      ],
      "metadata": {
        "id": "pq33X-PdFuB1"
      }
    },
    {
      "cell_type": "code",
      "source": [
        "sc = MinMaxScaler(feature_range=(0,1))\n",
        "trainingSetScaled = sc.fit_transform(trainingSet)"
      ],
      "metadata": {
        "id": "50JsAZfEFthy"
      },
      "execution_count": 9,
      "outputs": []
    },
    {
      "cell_type": "markdown",
      "source": [
        "Se entrena la Red proporcionando 100 datos de entrada y 1 de salida en cada iteración"
      ],
      "metadata": {
        "id": "vTDyFoxCOsJD"
      }
    },
    {
      "cell_type": "code",
      "source": [
        "timeSteps = 100\n",
        "xTrain = []\n",
        "yTrain = []"
      ],
      "metadata": {
        "id": "mrNkLnShOrjp"
      },
      "execution_count": 10,
      "outputs": []
    },
    {
      "cell_type": "markdown",
      "source": [
        " xTrain = lista de conjuntos de 100 datos.\n"
      ],
      "metadata": {
        "id": "zWBrnxTQO3h-"
      }
    },
    {
      "cell_type": "markdown",
      "source": [
        " yTrain = lista de valores"
      ],
      "metadata": {
        "id": "_1XE5PRjO_5k"
      }
    },
    {
      "cell_type": "code",
      "source": [
        "for i in range(0, len(trainingSetScaled)-timeSteps):\n",
        "    xTrain.append(trainingSetScaled[i:i+timeSteps, 0])\n",
        "    yTrain.append(trainingSetScaled[i+timeSteps,0])"
      ],
      "metadata": {
        "id": "4oMTHGxpOkrp"
      },
      "execution_count": 11,
      "outputs": []
    },
    {
      "cell_type": "markdown",
      "source": [
        "Preferiblemente usar numpy ya que:\n",
        "\n",
        "    1. Deberemos transformar xTrain (actualmente de dos dimensiones) a tres dimensiones.\n",
        "    2. Los programas que usan Numpy generalmente son más rápidos (sobretodo en IA)."
      ],
      "metadata": {
        "id": "kMPxoRYePHCc"
      }
    },
    {
      "cell_type": "code",
      "source": [
        "xTrain = np.array(xTrain)\n",
        "yTrain = np.array(yTrain)"
      ],
      "metadata": {
        "id": "6xAmjbzfPQbq"
      },
      "execution_count": 12,
      "outputs": []
    },
    {
      "cell_type": "markdown",
      "source": [
        " Hay que añadir una dimensión a xTrain, nos lo pide la libreria Keras"
      ],
      "metadata": {
        "id": "ICblDqsOQPY3"
      }
    },
    {
      "cell_type": "code",
      "source": [
        "xTrain = np.reshape(xTrain, (xTrain.shape[0], xTrain.shape[1], 1))"
      ],
      "metadata": {
        "id": "9vrTw2rgQP9O"
      },
      "execution_count": 13,
      "outputs": []
    },
    {
      "cell_type": "markdown",
      "source": [
        "Parámetros que deberemos proporcionar a Keras (Sequential())."
      ],
      "metadata": {
        "id": "nGAHDcsOQSrB"
      }
    },
    {
      "cell_type": "code",
      "source": [
        "dim_entrada = (xTrain.shape[1],1) # No hace falta la primera.\n",
        "dim_salida = 1\n",
        "na = 50 # numero de neurona que tiene la capa lstm"
      ],
      "metadata": {
        "id": "WNM9MZ0xQSEB"
      },
      "execution_count": 14,
      "outputs": []
    },
    {
      "cell_type": "markdown",
      "source": [
        "units = neuronas de la capa | return_sequences = hay más capas? | input_shape = dimensión entrada | \n",
        "    Dropout(%) = Número de neuronas que queremos ignorar en la capa de regularización (normalmente es de un 20%)."
      ],
      "metadata": {
        "id": "vyWlCckUQXPe"
      }
    },
    {
      "cell_type": "code",
      "source": [
        "regresor = Sequential() # Inicializa el modelo"
      ],
      "metadata": {
        "id": "awhXv0gSQbIv"
      },
      "execution_count": 15,
      "outputs": []
    },
    {
      "cell_type": "markdown",
      "source": [
        "Capa 1"
      ],
      "metadata": {
        "id": "97rdfzD0Rda1"
      }
    },
    {
      "cell_type": "code",
      "source": [
        "regresor.add(LSTM(units=na, input_shape=dim_entrada))"
      ],
      "metadata": {
        "id": "7X1xhoNbRiU3"
      },
      "execution_count": 16,
      "outputs": []
    },
    {
      "cell_type": "markdown",
      "source": [
        "Capa output"
      ],
      "metadata": {
        "id": "PJxQfTwJRkPd"
      }
    },
    {
      "cell_type": "code",
      "source": [
        "regresor.add(Dense(units=dim_salida))\n",
        "regresor.compile(optimizer='rmsprop', loss='mse') # mse = mean_squared_error"
      ],
      "metadata": {
        "id": "BTuoq67tRpTl"
      },
      "execution_count": 17,
      "outputs": []
    },
    {
      "cell_type": "markdown",
      "source": [
        "Encajar Red Neuronal en Set Entrenamiento\n",
        "\n",
        "epochs = iteraciones para entrenar tu modelo\n",
        "\n",
        "batch_size = numero ejemplos entrenamiento (cuanto más alto, más memoria necesitarás).  "
      ],
      "metadata": {
        "id": "e3JsNbzrRvo-"
      }
    },
    {
      "cell_type": "code",
      "source": [
        "regresor.fit(xTrain,yTrain,epochs=20, batch_size=32)"
      ],
      "metadata": {
        "colab": {
          "base_uri": "https://localhost:8080/"
        },
        "id": "KqSiWSiuR4O9",
        "outputId": "614c9b6a-a835-427d-a9c5-975c094f00dc"
      },
      "execution_count": 18,
      "outputs": [
        {
          "output_type": "stream",
          "name": "stdout",
          "text": [
            "Epoch 1/20\n",
            "76/76 [==============================] - 6s 49ms/step - loss: 0.0085\n",
            "Epoch 2/20\n",
            "76/76 [==============================] - 4s 55ms/step - loss: 9.2332e-04\n",
            "Epoch 3/20\n",
            "76/76 [==============================] - 4s 55ms/step - loss: 6.0290e-04\n",
            "Epoch 4/20\n",
            "76/76 [==============================] - 4s 54ms/step - loss: 5.3422e-04\n",
            "Epoch 5/20\n",
            "76/76 [==============================] - 4s 53ms/step - loss: 4.1880e-04\n",
            "Epoch 6/20\n",
            "76/76 [==============================] - 4s 52ms/step - loss: 3.6209e-04\n",
            "Epoch 7/20\n",
            "76/76 [==============================] - 4s 54ms/step - loss: 3.3353e-04\n",
            "Epoch 8/20\n",
            "76/76 [==============================] - 4s 54ms/step - loss: 2.8362e-04\n",
            "Epoch 9/20\n",
            "76/76 [==============================] - 4s 53ms/step - loss: 2.4922e-04\n",
            "Epoch 10/20\n",
            "76/76 [==============================] - 4s 52ms/step - loss: 2.4359e-04\n",
            "Epoch 11/20\n",
            "76/76 [==============================] - 4s 51ms/step - loss: 2.1943e-04\n",
            "Epoch 12/20\n",
            "76/76 [==============================] - 4s 52ms/step - loss: 1.9570e-04\n",
            "Epoch 13/20\n",
            "76/76 [==============================] - 4s 52ms/step - loss: 1.9605e-04\n",
            "Epoch 14/20\n",
            "76/76 [==============================] - 4s 52ms/step - loss: 1.9010e-04\n",
            "Epoch 15/20\n",
            "76/76 [==============================] - 4s 52ms/step - loss: 1.9045e-04\n",
            "Epoch 16/20\n",
            "76/76 [==============================] - 4s 52ms/step - loss: 1.8001e-04\n",
            "Epoch 17/20\n",
            "76/76 [==============================] - 4s 53ms/step - loss: 1.6502e-04\n",
            "Epoch 18/20\n",
            "76/76 [==============================] - 4s 49ms/step - loss: 1.5435e-04\n",
            "Epoch 19/20\n",
            "76/76 [==============================] - 4s 52ms/step - loss: 1.6936e-04\n",
            "Epoch 20/20\n",
            "76/76 [==============================] - 4s 53ms/step - loss: 1.5447e-04\n"
          ]
        },
        {
          "output_type": "execute_result",
          "data": {
            "text/plain": [
              "<keras.callbacks.History at 0x7fa5ab9c1590>"
            ]
          },
          "metadata": {},
          "execution_count": 18
        }
      ]
    },
    {
      "cell_type": "markdown",
      "source": [
        "Normalizar el conjunto de Test y relizamos las mismas operaciones que anteriormente"
      ],
      "metadata": {
        "id": "sI8pr7M4R920"
      }
    },
    {
      "cell_type": "code",
      "source": [
        "auxTest = sc.transform(testSet.values)\n",
        "xTest = []"
      ],
      "metadata": {
        "colab": {
          "base_uri": "https://localhost:8080/"
        },
        "id": "Nl_RG7yOR_PI",
        "outputId": "ca1d60c9-a0b8-4a3f-aeb1-05112d48bcb6"
      },
      "execution_count": 19,
      "outputs": [
        {
          "output_type": "stream",
          "name": "stderr",
          "text": [
            "/usr/local/lib/python3.7/dist-packages/sklearn/base.py:451: UserWarning: X does not have valid feature names, but MinMaxScaler was fitted with feature names\n",
            "  \"X does not have valid feature names, but\"\n"
          ]
        }
      ]
    },
    {
      "cell_type": "code",
      "source": [
        "for i in range(0, len(auxTest)-timeSteps):\n",
        "    xTest.append(auxTest[i:i+timeSteps,0])"
      ],
      "metadata": {
        "id": "0RGLOXZySqjF"
      },
      "execution_count": 20,
      "outputs": []
    },
    {
      "cell_type": "code",
      "source": [
        "xTest = np.array(xTest)\n",
        "xTest = np.reshape(xTest, (xTest.shape[0],xTest.shape[1], 1))"
      ],
      "metadata": {
        "id": "Xt3XvK-tSs6A"
      },
      "execution_count": 21,
      "outputs": []
    },
    {
      "cell_type": "markdown",
      "source": [
        "Se realiza la Predicción\n"
      ],
      "metadata": {
        "id": "arJwMFxqSu_A"
      }
    },
    {
      "cell_type": "code",
      "source": [
        "prediccion = regresor.predict(xTest)"
      ],
      "metadata": {
        "id": "Z6nwbHKfSvkH"
      },
      "execution_count": 22,
      "outputs": []
    },
    {
      "cell_type": "markdown",
      "source": [
        "Retornamos los valores de la Predicción para que esten en el mismo formato de los datos originales"
      ],
      "metadata": {
        "id": "nHO6JW7oSyn1"
      }
    },
    {
      "cell_type": "code",
      "source": [
        "prediccion = sc.inverse_transform(prediccion)"
      ],
      "metadata": {
        "id": "GXXtVRCaSzgj"
      },
      "execution_count": 23,
      "outputs": []
    },
    {
      "cell_type": "markdown",
      "source": [
        "Grafica de resultados"
      ],
      "metadata": {
        "id": "1tvt5FaoS1_c"
      }
    },
    {
      "cell_type": "code",
      "source": [
        "visualizar(testSet.values,prediccion)"
      ],
      "metadata": {
        "colab": {
          "base_uri": "https://localhost:8080/",
          "height": 279
        },
        "id": "oDkMjLrgS5Oy",
        "outputId": "775d3175-0cfc-4c9b-b908-e0adbafa411a"
      },
      "execution_count": 24,
      "outputs": [
        {
          "output_type": "display_data",
          "data": {
            "image/png": "[encoded data removed]",
            "text/plain": [
              "<Figure size 432x288 with 1 Axes>"
            ]
          },
          "metadata": {
            "needs_background": "light"
          }
        }
      ]
    },
    {
      "cell_type": "code",
      "source": [
        "plt.plot(real[0:len(prediccion)],color='red', label='Precio máximo real de la acción')\n",
        "plt.plot(prediccion, color='blue', label='Predicción de la acción')\n",
        "plt.xlabel('Tiempo')\n",
        "plt.ylabel('Precio de la acción')\n",
        "plt.legend()\n",
        "plt.show()"
      ],
      "metadata": {
        "id": "HYj5ErOVxKn6"
      },
      "execution_count": null,
      "outputs": []
    }
  ]
}